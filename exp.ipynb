{
 "cells": [
  {
   "cell_type": "code",
   "execution_count": null,
   "metadata": {},
   "outputs": [],
   "source": [
    "%load_ext autoreload\n",
    "%autoreload 2"
   ]
  },
  {
   "cell_type": "code",
   "execution_count": null,
   "metadata": {},
   "outputs": [],
   "source": [
    "import cv2\n",
    "import glob\n",
    "import random\n",
    "import matplotlib.pyplot as plt\n",
    "from functions import *\n",
    "from utils import *"
   ]
  },
  {
   "cell_type": "markdown",
   "metadata": {},
   "source": [
    "Data"
   ]
  },
  {
   "cell_type": "code",
   "execution_count": null,
   "metadata": {},
   "outputs": [],
   "source": [
    "# Bangla sign data\n",
    "## Kaggle data\n",
    "digit_files = glob.glob(\"./digit/*/*.jpg\")\n",
    "## Custom data\n",
    "custom_files = glob.glob(\"./data_custom/*/*.jpeg\")"
   ]
  },
  {
   "cell_type": "code",
   "execution_count": null,
   "metadata": {},
   "outputs": [],
   "source": [
    "# data\n",
    "random_img = random.choice(custom_files + digit_files)\n",
    "orig_img = cv2.imread(random_img)\n",
    "\n",
    "# skin-color-detection\n",
    "hand_sign, skin_mask, largest_contour, x, y = find_skin_color_blobs(orig_img)\n",
    "skin_mask = preprocess(skin_mask)\n",
    "hist = cv2.calcHist([hand_sign], [0], None, [256], [0, 256])\n",
    "\n",
    "# projection-profile\n",
    "bounded_skin_mask, horiz, vert = find_projection_bounding_box(hand_sign)\n",
    "\n",
    "\n",
    "# Plot - Grayscaling, Histogram\n",
    "plt.figure(figsize=(18, 8))\n",
    "plt.subplot(2, 3, 1)\n",
    "plt.imshow(hand_sign)\n",
    "plt.subplot(2, 3, 2)\n",
    "plt.imshow(skin_mask, cmap=\"gray\")\n",
    "# plt.axis(\"off\")\n",
    "plt.subplot(2, 3, 3)\n",
    "plt.plot(hist)\n",
    "plt.xlim(0, 256)\n",
    "\n",
    "# Plot - Projection Profile from skin color detected mask\n",
    "plt.figure(figsize=(18, 8))\n",
    "plt.subplot(2, 3, 1)\n",
    "plt.imshow(bounded_skin_mask, cmap=\"gray\")\n",
    "plt.subplot(2, 3, 2)\n",
    "plt.plot(np.arange(0, vert.shape[0]), vert)\n",
    "plt.title(\"Vertical Projection\")\n",
    "plt.subplot(2, 3, 3)\n",
    "plt.plot(np.arange(0, horiz.shape[0]), horiz)\n",
    "plt.title(\"Horizontal Projection\")"
   ]
  },
  {
   "cell_type": "code",
   "execution_count": null,
   "metadata": {},
   "outputs": [],
   "source": [
    "p = get_pyramid(skin_mask)\n",
    "plt.figure(figsize=(12, 8))\n",
    "for i in range(len(p)):\n",
    "    plt.subplot(2, 3, i+1)\n",
    "    plt.imshow(p[i], cmap=\"gray\")\n",
    "    plt.title(f\"Level: {i+1}\")\n",
    "    plt.axis(\"off\")"
   ]
  },
  {
   "cell_type": "code",
   "execution_count": null,
   "metadata": {},
   "outputs": [],
   "source": [
    "# Access all PNG files in directory\n",
    "imlist=[cv2.imread(filename) for filename in glob.glob(\"./data_custom/0/*.jpeg\")]\n",
    "_, skin_mask_template, _, _, _ = find_skin_color_blobs(imlist[0])\n",
    "skin_mask_template = preprocess(skin_mask_template)\n",
    "downsampled_skin_mask_template = get_pyramid(skin_mask_template)\n",
    "plt.imshow(downsampled_skin_mask_template[-1], cmap=\"gray\")\n",
    "plt.axis(\"off\")\n",
    "plt.show()"
   ]
  },
  {
   "cell_type": "code",
   "execution_count": null,
   "metadata": {},
   "outputs": [],
   "source": [
    "p_orig = get_pyramid(skin_mask)\n",
    "method = 'cv2.TM_CCOEFF_NORMED'\n",
    "\n",
    "for i, p in enumerate(p_orig[::-1]):\n",
    "    template = downsampled_skin_mask_template[len(downsampled_skin_mask_template) - 1 - i]\n",
    "    w, h = template.shape[::-1]\n",
    "    img = p.copy()\n",
    "\n",
    "    # Template Matching\n",
    "    res = cv2.matchTemplate(p, template, eval(method))\n",
    "    min_val, max_val, min_loc, max_loc = cv2.minMaxLoc(res)\n",
    "    top_left = max_loc\n",
    "    bottom_right = (top_left[0] + w, top_left[1] + h)\n",
    "\n",
    "    cv2.rectangle(img,top_left, bottom_right, 255, 0)\n",
    "    plt.subplot(131),plt.imshow(res,cmap = 'gray')\n",
    "    plt.title('Matching Result'), plt.xticks([]), plt.yticks([])\n",
    "    plt.subplot(132),plt.imshow(template,cmap = 'gray')\n",
    "    plt.title('Matching Template'), plt.xticks([]), plt.yticks([])\n",
    "    plt.subplot(133),plt.imshow(img,cmap = 'gray')\n",
    "    plt.title('Detected Point'), plt.xticks([]), plt.yticks([])\n",
    "    plt.show()"
   ]
  },
  {
   "cell_type": "code",
   "execution_count": null,
   "metadata": {},
   "outputs": [],
   "source": [
    "plt.imshow(p[top_left[1]:bottom_right[1], top_left[0]:bottom_right[0]], cmap=\"gray\")"
   ]
  },
  {
   "cell_type": "markdown",
   "metadata": {},
   "source": [
    "Main"
   ]
  },
  {
   "cell_type": "code",
   "execution_count": null,
   "metadata": {},
   "outputs": [],
   "source": [
    "cap = cv2.VideoCapture(0)\n",
    "ret, prev_frame = cap.read()\n",
    "if not ret:\n",
    "    print(\"Can't receive frame (stream end?). Exiting ...\")\n",
    "    exit(0)\n",
    "\n",
    "cv2.namedWindow('frame', cv2.WINDOW_NORMAL)\n",
    "cv2.imshow('frame', prev_frame)\n",
    "\n",
    "cv2.namedWindow('diff', cv2.WINDOW_NORMAL)\n",
    "cv2.namedWindow('skin', cv2.WINDOW_NORMAL)\n",
    "\n",
    "while True:\n",
    "    ret, frame = cap.read()\n",
    "    frame_immutable = frame\n",
    "    if not ret:\n",
    "        print(\"Can't receive frame (stream end?). Exiting ...\")\n",
    "        break\n",
    "    cv2.imshow('frame', frame)\n",
    "\n",
    "    diff = find_frame_difference(frame, prev_frame)\n",
    "    cv2.imshow('diff', diff)\n",
    "\n",
    "    # frame_skin = find_skin_color_blobs(frame)\n",
    "    frame_skin, skin_mask, largest_contour, bbx_x, bbx_y  = find_skin_color_blobs(frame)\n",
    "    cv2.imshow('skin', skin_mask)\n",
    "\n",
    "    frame_shape,_, _, _, _, _ = get_shape_features(frame_skin, largest_contour, bbx_x, bbx_y)\n",
    "    cv2.imshow('skin', frame_shape)\n",
    "\n",
    "    prev_frame = frame\n",
    "    \n",
    "    if cv2.waitKey(30) == 27:\n",
    "        print(\"esc key is pressed by user\") \n",
    "        break\n",
    "\n",
    "\n",
    "cap.release()\n",
    "cv2.destroyAllWindows()\n",
    "cv2.waitKey(1)"
   ]
  },
  {
   "cell_type": "code",
   "execution_count": null,
   "metadata": {},
   "outputs": [],
   "source": []
  }
 ],
 "metadata": {
  "kernelspec": {
   "display_name": "ivc",
   "language": "python",
   "name": "python3"
  },
  "language_info": {
   "codemirror_mode": {
    "name": "ipython",
    "version": 3
   },
   "file_extension": ".py",
   "mimetype": "text/x-python",
   "name": "python",
   "nbconvert_exporter": "python",
   "pygments_lexer": "ipython3",
   "version": "3.11.7"
  }
 },
 "nbformat": 4,
 "nbformat_minor": 2
}
